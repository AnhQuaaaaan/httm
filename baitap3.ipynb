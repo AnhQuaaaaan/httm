{
 "cells": [
  {
   "cell_type": "code",
   "execution_count": 6,
   "id": "97a53c5f",
   "metadata": {},
   "outputs": [
    {
     "name": "stdout",
     "output_type": "stream",
     "text": [
      "Sum of node1 and node2 is: tf.Tensor(8, shape=(), dtype=int32)\n"
     ]
    }
   ],
   "source": [
    "import tensorflow as tf\n",
    "\n",
    "# Creating nodes in the computation graph\n",
    "node1 = tf.constant(3, dtype=tf.int32)\n",
    "node2 = tf.constant(5, dtype=tf.int32)\n",
    "node3 = tf.add(node1, node2)\n",
    "# Create TensorFlow session object\n",
    "print(\"Sum of node1 and node2 is:\", node3)\n"
   ]
  },
  {
   "cell_type": "code",
   "execution_count": 7,
   "id": "37ce05ce",
   "metadata": {},
   "outputs": [
    {
     "name": "stdout",
     "output_type": "stream",
     "text": [
      "tf.Tensor([5.], shape=(1,), dtype=float32)\n"
     ]
    }
   ],
   "source": [
    "import tensorflow.compat.v1 as tf\n",
    "\n",
    "x = tf.constant(5, tf.float32)\n",
    "y = tf.constant([5], tf.float32)\n",
    "z = tf.constant([5, 3, 4], tf.float32)\n",
    "t = tf.constant([[5, 3, 4, 6], [2, 3, 4, 7]], tf.float32)\n",
    "u = tf.constant([[[5, 3, 4, 6], [2, 3, 4, 0]]], tf.float32)\n",
    "v = tf.constant(\n",
    "    [\n",
    "        [[5, 3, 4, 6], [2, 3, 4, 0]],\n",
    "        [[5, 3, 4, 6], [2, 3, 4, 0]],\n",
    "        [[5, 3, 4, 6], [2, 3, 4, 0]],\n",
    "    ],\n",
    "    tf.float32,\n",
    ")\n",
    "\n",
    "print(y)\n"
   ]
  },
  {
   "cell_type": "code",
   "execution_count": 8,
   "id": "6b989a3e",
   "metadata": {},
   "outputs": [
    {
     "name": "stdout",
     "output_type": "stream",
     "text": [
      "22.79\n"
     ]
    }
   ],
   "source": [
    "import tensorflow.compat.v1 as tf\n",
    "\n",
    "tf.compat.v1.disable_eager_execution()\n",
    "\n",
    "x1 = tf.Variable(5.3, tf.float32)\n",
    "x2 = tf.Variable(4.3, tf.float32)\n",
    "x = tf.multiply(x1, x2)\n",
    "\n",
    "init = tf.global_variables_initializer()\n",
    "\n",
    "with tf.compat.v1.Session() as sess:\n",
    "    sess.run(init)\n",
    "    t = sess.run(x)\n",
    "    print(t)\n"
   ]
  },
  {
   "cell_type": "code",
   "execution_count": 9,
   "id": "fe9abd50",
   "metadata": {},
   "outputs": [
    {
     "name": "stdout",
     "output_type": "stream",
     "text": [
      "[[22.79 19.35 42.  ]\n",
      " [22.79 19.35 42.  ]]\n"
     ]
    }
   ],
   "source": [
    "import tensorflow.compat.v1 as tf\n",
    "\n",
    "tf.compat.v1.disable_eager_execution()\n",
    "\n",
    "x1 = tf.Variable([[5.3, 4.5, 6.0], [4.3, 4.3, 7.0]], tf.float32)\n",
    "x2 = tf.Variable([[4.3, 4.3, 7.0], [5.3, 4.5, 6.0]], tf.float32)\n",
    "x = tf.multiply(x1, x2)\n",
    "\n",
    "init = tf.global_variables_initializer()\n",
    "\n",
    "with tf.compat.v1.Session() as sess:\n",
    "    sess.run(init)\n",
    "    t = sess.run(x)\n",
    "    print(t)\n"
   ]
  },
  {
   "cell_type": "code",
   "execution_count": 10,
   "id": "3100a56f",
   "metadata": {},
   "outputs": [
    {
     "name": "stdout",
     "output_type": "stream",
     "text": [
      "Tensor value before addition:\n",
      " [[0. 0.]\n",
      " [0. 0.]]\n",
      "Tensor value after addition:\n",
      " [[1. 1.]\n",
      " [1. 1.]]\n"
     ]
    }
   ],
   "source": [
    "import tensorflow.compat.v1 as tf\n",
    "\n",
    "# creating nodes in computation graph\n",
    "node = tf.Variable(tf.zeros([2, 2]))\n",
    "\n",
    "# running computation graph\n",
    "with tf.compat.v1.Session() as sess:\n",
    "    # initialize all global variables\n",
    "    sess.run(tf.global_variables_initializer())\n",
    "    \n",
    "    # evaluating node\n",
    "    print(\"Tensor value before addition:\\n\", sess.run(node))\n",
    "    \n",
    "    # elementwise addition to tensor\n",
    "    node = node.assign(node + tf.ones([2, 2]))\n",
    "    \n",
    "    # evaluate node again\n",
    "    print(\"Tensor value after addition:\\n\", sess.run(node))\n"
   ]
  },
  {
   "cell_type": "code",
   "execution_count": 11,
   "id": "e7c773a0",
   "metadata": {},
   "outputs": [
    {
     "name": "stdout",
     "output_type": "stream",
     "text": [
      "10.0\n"
     ]
    }
   ],
   "source": [
    "import tensorflow.compat.v1 as tf\n",
    "\n",
    "tf.compat.v1.disable_eager_execution()\n",
    "\n",
    "x = tf.placeholder(tf.float32, None)\n",
    "y = tf.add(x, x)\n",
    "\n",
    "with tf.compat.v1.Session() as sess:\n",
    "    x_data = 5\n",
    "    result = sess.run(y, feed_dict={x: x_data})\n",
    "    print(result)\n"
   ]
  },
  {
   "cell_type": "code",
   "execution_count": 12,
   "id": "44dd5c9e",
   "metadata": {},
   "outputs": [
    {
     "name": "stdout",
     "output_type": "stream",
     "text": [
      "[[3.  4.  6.6]]\n"
     ]
    }
   ],
   "source": [
    "import tensorflow.compat.v1 as tf\n",
    "\n",
    "tf.compat.v1.disable_eager_execution()\n",
    "\n",
    "x = tf.placeholder(tf.float32, [None, 3])\n",
    "y = tf.add(x, x)\n",
    "\n",
    "with tf.compat.v1.Session() as sess:\n",
    "    x_data = [[1.5, 2.0, 3.3]]\n",
    "    result = sess.run(y, feed_dict={x: x_data})\n",
    "    print(result)\n"
   ]
  },
  {
   "cell_type": "code",
   "execution_count": 13,
   "id": "88c53990",
   "metadata": {},
   "outputs": [
    {
     "name": "stdout",
     "output_type": "stream",
     "text": [
      "[[[2. 4. 6.]]]\n"
     ]
    }
   ],
   "source": [
    "import tensorflow.compat.v1 as tf\n",
    "\n",
    "tf.compat.v1.disable_eager_execution()\n",
    "\n",
    "x = tf.placeholder(tf.float32, [None, None, 3])\n",
    "y = tf.add(x, x)\n",
    "\n",
    "with tf.compat.v1.Session() as sess:\n",
    "    x_data = [[[1, 2, 3]]]\n",
    "    result = sess.run(y, feed_dict={x: x_data})\n",
    "    print(result)\n"
   ]
  },
  {
   "cell_type": "code",
   "execution_count": 14,
   "id": "5ef681a9",
   "metadata": {},
   "outputs": [
    {
     "name": "stdout",
     "output_type": "stream",
     "text": [
      "[[[ 2.  4.  6.]\n",
      "  [ 4.  6.  8.]\n",
      "  [ 4.  6. 10.]\n",
      "  [ 0.  2.  4.]]]\n"
     ]
    }
   ],
   "source": [
    "import tensorflow.compat.v1 as tf\n",
    "\n",
    "tf.compat.v1.disable_eager_execution()\n",
    "\n",
    "x = tf.placeholder(tf.float32, [None, 4, 3])\n",
    "y = tf.add(x, x)\n",
    "\n",
    "with tf.compat.v1.Session() as sess:\n",
    "    x_data = [[[1, 2, 3], [2, 3, 4], [2, 3, 5], [0, 1, 2]]]\n",
    "    result = sess.run(y, feed_dict={x: x_data})\n",
    "    print(result)\n"
   ]
  },
  {
   "cell_type": "code",
   "execution_count": 15,
   "id": "814afc4d",
   "metadata": {},
   "outputs": [
    {
     "name": "stdout",
     "output_type": "stream",
     "text": [
      "result1 = [[[ 2.  4.  6.]\n",
      "  [ 4.  6.  8.]\n",
      "  [ 4.  6. 10.]\n",
      "  [ 0.  2.  4.]]\n",
      "\n",
      " [[ 2.  4.  6.]\n",
      "  [ 4.  6.  8.]\n",
      "  [ 4.  6. 10.]\n",
      "  [ 0.  2.  4.]]]\n",
      "result2 = [[[ 1.  4.  9.]\n",
      "  [ 4.  9. 16.]\n",
      "  [ 4.  9. 25.]\n",
      "  [ 0.  1.  4.]]\n",
      "\n",
      " [[ 1.  4.  9.]\n",
      "  [ 4.  9. 16.]\n",
      "  [ 4.  9. 25.]\n",
      "  [ 0.  1.  4.]]]\n"
     ]
    }
   ],
   "source": [
    "import tensorflow.compat.v1 as tf\n",
    "\n",
    "tf.compat.v1.disable_eager_execution()\n",
    "\n",
    "x = tf.placeholder(tf.float32, [2, 4, 3])\n",
    "y = tf.placeholder(tf.float32, [2, 4, 3])\n",
    "z = tf.add(x, y)\n",
    "u = tf.multiply(x, y)\n",
    "\n",
    "with tf.compat.v1.Session() as sess:\n",
    "    x_data = [[[1, 2, 3], [2, 3, 4], [2, 3, 5], [0, 1, 2]], [[1, 2, 3], [2, 3, 4], [2, 3, 5], [0, 1, 2]]]\n",
    "    y_data = [[[1, 2, 3], [2, 3, 4], [2, 3, 5], [0, 1, 2]], [[1, 2, 3], [2, 3, 4], [2, 3, 5], [0, 1, 2]]]\n",
    "\n",
    "    result1 = sess.run(z, feed_dict={x: x_data, y: y_data})\n",
    "    result2 = sess.run(u, feed_dict={x: x_data, y: y_data})\n",
    "\n",
    "    print(\"result1 =\", result1)\n",
    "    print(\"result2 =\", result2)\n"
   ]
  },
  {
   "cell_type": "code",
   "execution_count": 16,
   "id": "a1dae750",
   "metadata": {},
   "outputs": [
    {
     "name": "stdout",
     "output_type": "stream",
     "text": [
      "0.9885698\n"
     ]
    }
   ],
   "source": [
    "import tensorflow.compat.v1 as tf\n",
    "\n",
    "tf.compat.v1.disable_eager_execution()\n",
    "\n",
    "x1 = tf.constant(5.3, tf.float32)\n",
    "x2 = tf.constant(1.5, tf.float32)\n",
    "w1 = tf.Variable(0.7, tf.float32)\n",
    "w2 = tf.Variable(0.5, tf.float32)\n",
    "\n",
    "u = tf.multiply(x1, w1)\n",
    "v = tf.multiply(x2, w2)\n",
    "z = tf.add(u, v)\n",
    "result = tf.sigmoid(z)\n",
    "\n",
    "init = tf.global_variables_initializer()\n",
    "\n",
    "with tf.compat.v1.Session() as sess:\n",
    "    sess.run(init)\n",
    "    print(sess.run(result))\n"
   ]
  },
  {
   "cell_type": "code",
   "execution_count": 17,
   "id": "68705e49",
   "metadata": {},
   "outputs": [
    {
     "data": {
      "image/png": "[encoded data removed]",
      "text/plain": [
       "<Figure size 640x480 with 1 Axes>"
      ]
     },
     "metadata": {},
     "output_type": "display_data"
    }
   ],
   "source": [
    "import numpy as np\n",
    "import matplotlib.pyplot as plt\n",
    "\n",
    "number_of_points = 500\n",
    "x_point = []\n",
    "y_point = []\n",
    "a = 0.22\n",
    "b = 0.78\n",
    "\n",
    "for i in range(number_of_points):\n",
    "    x = np.random.normal(0.0, 0.5)\n",
    "    y = a * x + b + np.random.normal(0.0, 0.1)\n",
    "    x_point.append([x])\n",
    "    y_point.append([y])\n",
    "\n",
    "plt.plot(x_point, y_point, 'o', label='Input Data')\n",
    "plt.legend()\n",
    "plt.show()\n"
   ]
  },
  {
   "cell_type": "code",
   "execution_count": 18,
   "id": "023ee5d4",
   "metadata": {},
   "outputs": [
    {
     "name": "stdout",
     "output_type": "stream",
     "text": [
      "[[0.785835   0.85814893 0.9801597 ]]\n"
     ]
    }
   ],
   "source": [
    "import tensorflow.compat.v1 as tf\n",
    "\n",
    "tf.compat.v1.disable_eager_execution()\n",
    "\n",
    "x1 = tf.placeholder(tf.float32, [None, 3])\n",
    "x2 = tf.placeholder(tf.float32, [None, 3])\n",
    "w1 = tf.Variable([0.5, 0.4, 0.7], tf.float32)\n",
    "w2 = tf.Variable([0.8, 0.5, 0.6], tf.float32)\n",
    "\n",
    "u1 = tf.multiply(w1, x1)\n",
    "u2 = tf.multiply(w2, x2)\n",
    "v = tf.add(u1, u2)\n",
    "z = tf.sigmoid(v)\n",
    "\n",
    "init = tf.global_variables_initializer()\n",
    "\n",
    "with tf.compat.v1.Session() as sess:\n",
    "    x1_data = [[1, 2, 3]]\n",
    "    x2_data = [[1, 2, 3]]\n",
    "    sess.run(init)\n",
    "    result = sess.run(z, feed_dict={x1: x1_data, x2: x2_data})\n",
    "    print(result)\n"
   ]
  },
  {
   "cell_type": "code",
   "execution_count": 20,
   "id": "9ba93e36",
   "metadata": {},
   "outputs": [
    {
     "name": "stdout",
     "output_type": "stream",
     "text": [
      "[[2 2 2]\n",
      " [2 2 2]\n",
      " [2 2 2]]\n",
      "[[1 1 1]\n",
      " [1 1 1]\n",
      " [1 1 1]]\n",
      "[[2. 7. 2.]\n",
      " [1. 4. 2.]\n",
      " [9. 0. 2.]]\n",
      "[[6 6 6]\n",
      " [6 6 6]\n",
      " [6 6 6]]\n",
      "[[3 3 3]\n",
      " [3 3 3]\n",
      " [3 3 3]]\n",
      "55.999992\n"
     ]
    }
   ],
   "source": [
    "import tensorflow as tf\n",
    "import numpy as np\n",
    "\n",
    "matrix1 = np.array([(2, 2, 2), (2, 2, 2), (2, 2, 2)], dtype='int32')\n",
    "matrix2 = np.array([(1, 1, 1), (1, 1, 1), (1, 1, 1)], dtype='int32')\n",
    "\n",
    "print(matrix1)\n",
    "print(matrix2)\n",
    "\n",
    "matrix1 = tf.constant(matrix1)\n",
    "matrix2 = tf.constant(matrix2)\n",
    "\n",
    "matrix_product = tf.matmul(matrix1, matrix2)\n",
    "matrix_sum = tf.add(matrix1, matrix2)\n",
    "\n",
    "matrix_3 = np.array([(2, 7, 2), (1, 4, 2), (9, 0, 2)], dtype='float32')\n",
    "print(matrix_3)\n",
    "\n",
    "# Sử dụng tf.linalg.det thay vì tf.matrix_determinant\n",
    "matrix_det = tf.linalg.det(matrix_3)\n",
    "\n",
    "with tf.compat.v1.Session() as sess:\n",
    "    result1 = sess.run(matrix_product)\n",
    "    result2 = sess.run(matrix_sum)\n",
    "    result3 = sess.run(matrix_det)\n",
    "\n",
    "print(result1)\n",
    "print(result2)\n",
    "print(result3)\n"
   ]
  },
  {
   "cell_type": "code",
   "execution_count": 21,
   "id": "d79379d3",
   "metadata": {},
   "outputs": [
    {
     "name": "stdout",
     "output_type": "stream",
     "text": [
      "Epoch:   200 \t Cost:    0.2673 \t W: 0.499 \t b:-0.9549\n",
      "Epoch:   400 \t Cost:     0.194 \t W:0.4457 \t b:-0.5767\n",
      "Epoch:   600 \t Cost:     0.149 \t W:0.4038 \t b:-0.2801\n",
      "Epoch:   800 \t Cost:    0.1213 \t W: 0.371 \t b:-0.04739\n",
      "Epoch:  1000 \t Cost:    0.1042 \t W:0.3453 \t b:0.1351\n",
      "Epoch:  1200 \t Cost:    0.0937 \t W:0.3251 \t b:0.2782\n",
      "Epoch:  1400 \t Cost:   0.08725 \t W:0.3092 \t b:0.3905\n",
      "Epoch:  1600 \t Cost:   0.08328 \t W:0.2968 \t b:0.4786\n",
      "Epoch:  1800 \t Cost:   0.08083 \t W:0.2871 \t b:0.5476\n",
      "Epoch:  2000 \t Cost:   0.07933 \t W:0.2794 \t b:0.6018\n",
      "Optimization Finished!\n",
      "Final training cost: 0.07933138 W: 0.27942413 b: 0.60178834 \n",
      "\n"
     ]
    },
    {
     "data": {
      "image/png": "[encoded data removed]",
      "text/plain": [
       "<Figure size 640x480 with 1 Axes>"
      ]
     },
     "metadata": {},
     "output_type": "display_data"
    },
    {
     "name": "stdout",
     "output_type": "stream",
     "text": [
      "Final testing cost: 0.075308636\n",
      "Absolute mean square loss difference: 0.0040227473\n"
     ]
    },
    {
     "data": {
      "image/png": "[encoded data removed]",
      "text/plain": [
       "<Figure size 640x480 with 1 Axes>"
      ]
     },
     "metadata": {},
     "output_type": "display_data"
    }
   ],
   "source": [
    "# importing the dependencies\n",
    "import tensorflow.compat.v1 as tf\n",
    "import numpy as np\n",
    "import matplotlib.pyplot as plt\n",
    "\n",
    "# Model Parameters\n",
    "learning_rate = 0.01\n",
    "training_epochs = 2000\n",
    "display_step = 200\n",
    "\n",
    "# Training Data\n",
    "train_X = np.asarray([3.3, 4.4, 5.5, 6.71, 6.93, 4.168, 9.779, 6.182, 7.59, 2.167, 7.042, 10.791, 5.313, 7.997, 5.654, 9.27, 3.1])\n",
    "train_y = np.asarray([1.7, 2.76, 2.09, 3.19, 1.694, 1.573, 3.366, 2.596, 2.53, 1.221, 2.827, 3.465, 1.65, 2.904, 2.42, 2.94, 1.3])\n",
    "n_samples = train_X.shape[0]\n",
    "\n",
    "# Test Data\n",
    "test_X = np.asarray([6.83, 4.668, 8.9, 7.91, 5.7, 8.7, 3.1, 2.1])\n",
    "test_y = np.asarray([1.84, 2.273, 3.2, 2.831, 2.92, 3.24, 1.35, 1.03])\n",
    "\n",
    "# Set placeholders for feature and target vectors\n",
    "X = tf.placeholder(tf.float32)\n",
    "y = tf.placeholder(tf.float32)\n",
    "\n",
    "# Set model weights and bias\n",
    "W = tf.Variable(np.random.randn(), name=\"weight\")\n",
    "b = tf.Variable(np.random.randn(), name=\"bias\")\n",
    "\n",
    "# Construct a linear model\n",
    "linear_model = W * X + b\n",
    "\n",
    "# Mean squared error cost\n",
    "cost = tf.reduce_sum(tf.square(linear_model - y)) / (2 * n_samples)\n",
    "\n",
    "# Gradient descent optimizer\n",
    "optimizer = tf.train.GradientDescentOptimizer(learning_rate).minimize(cost)\n",
    "\n",
    "# Initializing the variables\n",
    "init = tf.global_variables_initializer()\n",
    "\n",
    "# Launch the graph\n",
    "with tf.Session() as sess:\n",
    "    # Load initialized variables in the current session\n",
    "    sess.run(init)\n",
    "\n",
    "    # Fit all training data\n",
    "    for epoch in range(training_epochs):\n",
    "        # Perform gradient descent step\n",
    "        sess.run(optimizer, feed_dict={X: train_X, y: train_y})\n",
    "\n",
    "        # Display logs per epoch step\n",
    "        if (epoch + 1) % display_step == 0:\n",
    "            c = sess.run(cost, feed_dict={X: train_X, y: train_y})\n",
    "            print(\"Epoch:{0:6} \\t Cost:{1:10.4} \\t W:{2:6.4} \\t b:{3:6.4}\".format(epoch + 1, c, sess.run(W), sess.run(b)))\n",
    "\n",
    "    # Print final parameter values\n",
    "    print(\"Optimization Finished!\")\n",
    "    training_cost = sess.run(cost, feed_dict={X: train_X, y: train_y})\n",
    "    print(\"Final training cost:\", training_cost, \"W:\", sess.run(W), \"b:\", sess.run(b), '\\n')\n",
    "\n",
    "    # Graphic display\n",
    "    plt.plot(train_X, train_y, 'ro', label='Original data')\n",
    "    plt.plot(train_X, sess.run(W) * train_X + sess.run(b), label='Fitted line')\n",
    "    plt.legend()\n",
    "    plt.show()\n",
    "\n",
    "    # Testing the model\n",
    "    testing_cost = sess.run(tf.reduce_sum(tf.square(linear_model - y)) / (2 * test_X.shape[0]), feed_dict={X: test_X, y: test_y})\n",
    "    print(\"Final testing cost:\", testing_cost)\n",
    "    print(\"Absolute mean square loss difference:\", abs(training_cost - testing_cost))\n",
    "\n",
    "    # Display fitted line on test data\n",
    "    plt.plot(test_X, test_y, 'bo', label='Testing data')\n",
    "    plt.plot(train_X, sess.run(W) * train_X + sess.run(b), label='Fitted line')\n",
    "    plt.legend()\n",
    "    plt.show()\n"
   ]
  },
  {
   "cell_type": "code",
   "execution_count": 24,
   "id": "8e3c08b9",
   "metadata": {},
   "outputs": [
    {
     "name": "stdout",
     "output_type": "stream",
     "text": [
      "0.8537976\n"
     ]
    }
   ],
   "source": [
    "#tanh\n",
    "import tensorflow.compat.v1 as tf\n",
    "\n",
    "tf.compat.v1.disable_eager_execution()\n",
    "\n",
    "x1 = tf.constant(2.0, tf.float32)\n",
    "x2 = tf.constant(3.0, tf.float32)\n",
    "x3 = tf.constant(4.0, tf.float32)\n",
    "w1 = tf.constant(0.05, tf.float32)\n",
    "w2 = tf.constant(0.07, tf.float32)\n",
    "w3 = tf.constant(0.09, tf.float32)\n",
    "b = tf.constant(0.6, tf.float32)\n",
    "\n",
    "z = tf.add(tf.add(tf.add(tf.multiply(x1,w1),tf.multiply(x2,w2)),tf.multiply(x3,w3)),b)\n",
    "tanh_result = tf.tanh(z)\n",
    "\n",
    "init = tf.global_variables_initializer()\n",
    "\n",
    "with tf.Session() as sess:\n",
    "    sess.run(init)\n",
    "    final_result = sess.run(tanh_result)\n",
    "    print(final_result)"
   ]
  },
  {
   "cell_type": "code",
   "execution_count": 26,
   "id": "92ce8217",
   "metadata": {},
   "outputs": [
    {
     "name": "stdout",
     "output_type": "stream",
     "text": [
      "1.27\n"
     ]
    }
   ],
   "source": [
    "#relu\n",
    "import tensorflow.compat.v1 as tf\n",
    "\n",
    "tf.compat.v1.disable_eager_execution()\n",
    "\n",
    "x1 = tf.constant(2.0, tf.float32)\n",
    "x2 = tf.constant(3.0, tf.float32)\n",
    "x3 = tf.constant(4.0, tf.float32)\n",
    "w1 = tf.constant(0.05, tf.float32)\n",
    "w2 = tf.constant(0.07, tf.float32)\n",
    "w3 = tf.constant(0.09, tf.float32)\n",
    "b = tf.constant(0.6, tf.float32)\n",
    "\n",
    "z = tf.add(tf.add(tf.add(tf.multiply(x1,w1),tf.multiply(x2,w2)),tf.multiply(x3,w3)),b)\n",
    "relu_result = tf.nn.relu(z)\n",
    "\n",
    "init = tf.global_variables_initializer()\n",
    "\n",
    "with tf.Session() as sess:\n",
    "    sess.run(init)\n",
    "    final_result = sess.run(relu_result)\n",
    "    print(final_result)"
   ]
  },
  {
   "cell_type": "code",
   "execution_count": 28,
   "id": "929233af",
   "metadata": {},
   "outputs": [
    {
     "name": "stdout",
     "output_type": "stream",
     "text": [
      "0.78074276\n"
     ]
    }
   ],
   "source": [
    "#Sigmoid\n",
    "import tensorflow.compat.v1 as tf\n",
    "\n",
    "tf.compat.v1.disable_eager_execution()\n",
    "\n",
    "x1 = tf.constant(2.0, tf.float32)\n",
    "x2 = tf.constant(3.0, tf.float32)\n",
    "x3 = tf.constant(4.0, tf.float32)\n",
    "w1 = tf.constant(0.05, tf.float32)\n",
    "w2 = tf.constant(0.07, tf.float32)\n",
    "w3 = tf.constant(0.09, tf.float32)\n",
    "b = tf.constant(0.6, tf.float32)\n",
    "\n",
    "z = tf.add(tf.add(tf.add(tf.multiply(x1,w1),tf.multiply(x2,w2)),tf.multiply(x3,w3)),b)\n",
    "sigmoid_result = tf.sigmoid(z)\n",
    "\n",
    "init = tf.global_variables_initializer()\n",
    "\n",
    "with tf.Session() as sess:\n",
    "    sess.run(init)\n",
    "    final_result = sess.run(sigmoid_result)\n",
    "    print(final_result)"
   ]
  },
  {
   "cell_type": "code",
   "execution_count": 29,
   "id": "b5554a8d",
   "metadata": {},
   "outputs": [
    {
     "name": "stdout",
     "output_type": "stream",
     "text": [
      "n?\n",
      "3\n",
      "arr?\n",
      "2.0\n",
      "3.0\n",
      "4.0\n",
      "brr?\n",
      "0.05\n",
      "0.07\n",
      "0.09\n",
      "bias?\n",
      "0.6\n",
      "0.8537976\n"
     ]
    }
   ],
   "source": [
    "import tensorflow.compat.v1 as tf\n",
    "tf.compat.v1.disable_eager_execution()\n",
    "arr=[]\n",
    "brr=[]\n",
    "print(\"n?\")\n",
    "n = int(input())\n",
    "print(\"arr?\")\n",
    "for i in range(0,n):\n",
    "    arr.append(float(input()))\n",
    "print(\"brr?\")\n",
    "for i in range(0,n):\n",
    "    brr.append(float(input()))  \n",
    "print(\"bias?\")\n",
    "bias = float(input())\n",
    "a = tf.placeholder(tf.float32, shape=(None,))\n",
    "b = tf.placeholder(tf.float32, shape=(None,))\n",
    "sum = tf.reduce_sum(tf.multiply(a,b))\n",
    "result = tf.nn.tanh(tf.add(sum,bias))\n",
    "\n",
    "init = tf.global_variables_initializer()\n",
    "with tf.Session() as sess:\n",
    "    sess.run(init)\n",
    "    result_value = sess.run(result, feed_dict={a:arr,b:brr})\n",
    "    print(result_value)"
   ]
  },
  {
   "cell_type": "code",
   "execution_count": null,
   "id": "a13f5aaf",
   "metadata": {},
   "outputs": [],
   "source": []
  }
 ],
 "metadata": {
  "kernelspec": {
   "display_name": "Python 3 (ipykernel)",
   "language": "python",
   "name": "python3"
  },
  "language_info": {
   "codemirror_mode": {
    "name": "ipython",
    "version": 3
   },
   "file_extension": ".py",
   "mimetype": "text/x-python",
   "name": "python",
   "nbconvert_exporter": "python",
   "pygments_lexer": "ipython3",
   "version": "3.10.9"
  }
 },
 "nbformat": 4,
 "nbformat_minor": 5
}
